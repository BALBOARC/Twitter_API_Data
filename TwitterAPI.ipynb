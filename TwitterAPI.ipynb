{
 "cells": [
  {
   "cell_type": "markdown",
   "id": "smart-planet",
   "metadata": {},
   "source": [
    "# Data Mining Twitter\n",
    "\n",
    "github.com/BALBOARC"
   ]
  },
  {
   "cell_type": "markdown",
   "id": "bound-exception",
   "metadata": {},
   "source": [
    "## Authenticating with Twitter Via Tweepy"
   ]
  },
  {
   "cell_type": "code",
   "execution_count": 1,
   "id": "actual-start",
   "metadata": {},
   "outputs": [],
   "source": [
    "import tweepy"
   ]
  },
  {
   "cell_type": "code",
   "execution_count": 2,
   "id": "reflected-wiring",
   "metadata": {},
   "outputs": [],
   "source": [
    "import keys"
   ]
  },
  {
   "cell_type": "code",
   "execution_count": 3,
   "id": "given-improvement",
   "metadata": {},
   "outputs": [],
   "source": [
    "auth = tweepy.OAuthHandler(keys.consumer_key, \n",
    "                          keys.consumer_secret)"
   ]
  },
  {
   "cell_type": "code",
   "execution_count": 4,
   "id": "extreme-volunteer",
   "metadata": {},
   "outputs": [],
   "source": [
    "auth.set_access_token(keys.access_token,\n",
    "                      keys.access_token_secret)"
   ]
  },
  {
   "cell_type": "code",
   "execution_count": 5,
   "id": "quality-tourism",
   "metadata": {},
   "outputs": [],
   "source": [
    "api = tweepy.API(auth, wait_on_rate_limit=True,\n",
    "                 wait_on_rate_limit_notify=True)"
   ]
  },
  {
   "cell_type": "markdown",
   "id": "discrete-camera",
   "metadata": {},
   "source": [
    "## Getting Information About a Twitter Account"
   ]
  },
  {
   "cell_type": "code",
   "execution_count": 6,
   "id": "caroline-diabetes",
   "metadata": {},
   "outputs": [
    {
     "data": {
      "text/plain": [
       "11348282"
      ]
     },
     "execution_count": 6,
     "metadata": {},
     "output_type": "execute_result"
    }
   ],
   "source": [
    "nasa = api.get_user('nasa')\n",
    "nasa.id"
   ]
  },
  {
   "cell_type": "code",
   "execution_count": 7,
   "id": "preceding-utilization",
   "metadata": {},
   "outputs": [
    {
     "data": {
      "text/plain": [
       "'NASA'"
      ]
     },
     "execution_count": 7,
     "metadata": {},
     "output_type": "execute_result"
    }
   ],
   "source": [
    "nasa.name"
   ]
  },
  {
   "cell_type": "code",
   "execution_count": 8,
   "id": "potential-uganda",
   "metadata": {},
   "outputs": [
    {
     "data": {
      "text/plain": [
       "'NASA'"
      ]
     },
     "execution_count": 8,
     "metadata": {},
     "output_type": "execute_result"
    }
   ],
   "source": [
    "nasa.screen_name"
   ]
  },
  {
   "cell_type": "code",
   "execution_count": 9,
   "id": "effective-passenger",
   "metadata": {},
   "outputs": [
    {
     "data": {
      "text/plain": [
       "'Exploring the universe and our home planet. 🌎🚀'"
      ]
     },
     "execution_count": 9,
     "metadata": {},
     "output_type": "execute_result"
    }
   ],
   "source": [
    "nasa.description"
   ]
  },
  {
   "cell_type": "code",
   "execution_count": 10,
   "id": "homeless-debate",
   "metadata": {},
   "outputs": [
    {
     "data": {
      "text/plain": [
       "'Not your typical tune up 👩\\u200d🚀\\n\\nTOMORROW, 4:30am ET — @NASA_Astronauts Kate Rubins &amp; @AstroVicGlover will begin a 6.5… https://t.co/34lzsihwd1'"
      ]
     },
     "execution_count": 10,
     "metadata": {},
     "output_type": "execute_result"
    }
   ],
   "source": [
    "nasa.status.text"
   ]
  },
  {
   "cell_type": "code",
   "execution_count": 11,
   "id": "proof-independence",
   "metadata": {},
   "outputs": [
    {
     "data": {
      "text/plain": [
       "44506134"
      ]
     },
     "execution_count": 11,
     "metadata": {},
     "output_type": "execute_result"
    }
   ],
   "source": [
    "nasa.followers_count"
   ]
  },
  {
   "cell_type": "code",
   "execution_count": 12,
   "id": "advance-queen",
   "metadata": {},
   "outputs": [
    {
     "data": {
      "text/plain": [
       "204"
      ]
     },
     "execution_count": 12,
     "metadata": {},
     "output_type": "execute_result"
    }
   ],
   "source": [
    "nasa.friends_count"
   ]
  },
  {
   "cell_type": "code",
   "execution_count": 13,
   "id": "surface-tragedy",
   "metadata": {},
   "outputs": [],
   "source": [
    "me = api.me()"
   ]
  },
  {
   "cell_type": "code",
   "execution_count": 14,
   "id": "discrete-retail",
   "metadata": {},
   "outputs": [
    {
     "data": {
      "text/plain": [
       "26"
      ]
     },
     "execution_count": 14,
     "metadata": {},
     "output_type": "execute_result"
    }
   ],
   "source": [
    "me.friends_count"
   ]
  },
  {
   "cell_type": "markdown",
   "id": "decent-prompt",
   "metadata": {},
   "source": [
    "## Introduction to Tweepy Cursors: Getting an Account’s Followers and Friends"
   ]
  },
  {
   "cell_type": "code",
   "execution_count": 15,
   "id": "floral-model",
   "metadata": {},
   "outputs": [],
   "source": [
    "followers = []"
   ]
  },
  {
   "cell_type": "code",
   "execution_count": 16,
   "id": "hired-bridges",
   "metadata": {},
   "outputs": [],
   "source": [
    "cursor = tweepy.Cursor(api.followers, screen_name='nasa')"
   ]
  },
  {
   "cell_type": "code",
   "execution_count": 17,
   "id": "correct-confirmation",
   "metadata": {},
   "outputs": [],
   "source": [
    "for account in cursor.items(10):\n",
    "    followers.append(account.screen_name)"
   ]
  },
  {
   "cell_type": "code",
   "execution_count": 18,
   "id": "modular-cocktail",
   "metadata": {},
   "outputs": [
    {
     "name": "stdout",
     "output_type": "stream",
     "text": [
      "Followers: 3yGKCU7kiNF2CMD don2bes1 Johnny36844542 keeho_kim Krishna96420331 madyson26613383 MEHARABHARAT1 MS8377RB NikhilShivajiP6 v_suvarnkar\n"
     ]
    }
   ],
   "source": [
    "print('Followers:', \n",
    "      ' '.join(sorted(followers, key=lambda s: s.lower())))"
   ]
  },
  {
   "cell_type": "code",
   "execution_count": 19,
   "id": "inner-intention",
   "metadata": {},
   "outputs": [],
   "source": [
    "# cursor = tweepy.Cursor(api.followers, screen_name='nasa', count=200)"
   ]
  },
  {
   "cell_type": "code",
   "execution_count": 20,
   "id": "casual-cincinnati",
   "metadata": {},
   "outputs": [],
   "source": [
    "# Determining Whom an Account Follows\n",
    "friends = []"
   ]
  },
  {
   "cell_type": "code",
   "execution_count": 21,
   "id": "excellent-procurement",
   "metadata": {},
   "outputs": [],
   "source": [
    "cursor = tweepy.Cursor(api.friends, screen_name='nasa')"
   ]
  },
  {
   "cell_type": "code",
   "execution_count": 22,
   "id": "classified-christian",
   "metadata": {},
   "outputs": [],
   "source": [
    "for friend in cursor.items(10):\n",
    "    friends.append(friend.screen_name)"
   ]
  },
  {
   "cell_type": "code",
   "execution_count": 23,
   "id": "naughty-ireland",
   "metadata": {},
   "outputs": [
    {
     "name": "stdout",
     "output_type": "stream",
     "text": [
      "Friends: Astro_Megan Astro_SEAL dominickmatthew DoNASAScience KathyLueders MarkKirasich NASAArtemis NASAPersevere NASARoman uaespaceagency\n"
     ]
    }
   ],
   "source": [
    "print('Friends:', \n",
    "     ' '.join(sorted(friends, key=lambda s: s.lower())))"
   ]
  },
  {
   "cell_type": "code",
   "execution_count": 24,
   "id": "signed-arbor",
   "metadata": {},
   "outputs": [],
   "source": [
    "# Getting a User’s Recent Tweets\n",
    "nasa_tweets = api.user_timeline(screen_name='nasa', count=3)"
   ]
  },
  {
   "cell_type": "code",
   "execution_count": 25,
   "id": "alpha-sleeve",
   "metadata": {},
   "outputs": [
    {
     "name": "stdout",
     "output_type": "stream",
     "text": [
      "NASA: Not your typical tune up 👩‍🚀\n",
      "\n",
      "TOMORROW, 4:30am ET — @NASA_Astronauts Kate Rubins &amp; @AstroVicGlover will begin a 6.5… https://t.co/34lzsihwd1\n",
      "\n",
      "NASA: RT @VP: I spoke with @NASA Astronaut and @USNavy Commander Victor J. Glover aboard the International Space Station. @AstroVicGlover is maki…\n",
      "\n",
      "NASA: RT @AstroVicGlover: Madame Vice President, welcome to the International @Space_Station! https://t.co/LeysR4ltYi\n",
      "\n"
     ]
    }
   ],
   "source": [
    "for tweet in nasa_tweets:\n",
    "    print(f'{tweet.user.screen_name}: {tweet.text}\\n')"
   ]
  },
  {
   "cell_type": "code",
   "execution_count": 26,
   "id": "occupied-animation",
   "metadata": {},
   "outputs": [],
   "source": [
    "# Grabbing Recent Tweets from Your Own Timeline\n",
    "# api.home_timeline()"
   ]
  },
  {
   "cell_type": "markdown",
   "id": "applied-farmer",
   "metadata": {},
   "source": [
    "## Searching Recent Tweets"
   ]
  },
  {
   "cell_type": "code",
   "execution_count": 31,
   "id": "exact-lewis",
   "metadata": {},
   "outputs": [],
   "source": [
    "from tweetutilities import print_tweets\n",
    "from textblob import TextBlob"
   ]
  },
  {
   "cell_type": "code",
   "execution_count": 32,
   "id": "abandoned-tamil",
   "metadata": {},
   "outputs": [],
   "source": [
    "tweets = api.search(q='Mars Opportunity Rover', count=3)"
   ]
  },
  {
   "cell_type": "code",
   "execution_count": 33,
   "id": "simplified-genome",
   "metadata": {},
   "outputs": [
    {
     "name": "stdout",
     "output_type": "stream",
     "text": [
      "\"She said her experience early on as an immigrant motivates her to give her best always....\n",
      "\n",
      "\"'I saw everything com… https://t.co/myfTzFau39\n",
      "\n",
      "\"I saw everything coming my way as an opportunity.\"  https://t.co/vzlbXHOlac\n",
      "\n",
      "\n",
      " ORIGINAL: NASA'nın Mars gezgini Perseverance Rover'ın üzerinde bulunan bu plakada, soldan sağa doğru olmak üzere, Sojourner R… https://t.co/QdvFdrPbSP\n",
      "TRANSLATED: On this plate on the NASA Mars rover Perseverance Rover, from left to right, Sojourner R…\n",
      "\n"
     ]
    }
   ],
   "source": [
    "print_tweets(tweets)"
   ]
  },
  {
   "cell_type": "code",
   "execution_count": 38,
   "id": "ordered-california",
   "metadata": {},
   "outputs": [],
   "source": [
    "# Certifique-se que o TextBLob está instalado:\n",
    "# pip install -U textblob\n",
    "# python -m textblob.download_corpora (consegui utilizando o terminal do linux)"
   ]
  },
  {
   "cell_type": "markdown",
   "id": "protective-homework",
   "metadata": {},
   "source": [
    "## Searching for a Hashtag"
   ]
  },
  {
   "cell_type": "code",
   "execution_count": 36,
   "id": "insured-worse",
   "metadata": {},
   "outputs": [],
   "source": [
    "tweets = api.search(q='#collegefootball', count=2)"
   ]
  },
  {
   "cell_type": "code",
   "execution_count": 37,
   "id": "outside-brown",
   "metadata": {},
   "outputs": [
    {
     "name": "stdout",
     "output_type": "stream",
     "text": [
      "Top 130 coming soon! Am I doing it right?\n",
      "\n",
      " @CFBPlayoff #CollegeFootball\n",
      "@TexasFootball @texcrystal_ball… https://t.co/TRq2mr86eV\n",
      "\n",
      "RT @Th3DWay: 3DBU 7v7 Sooner 7 Classic Tournament \n",
      "Cadyn Bradley @Cadyn_Bradley \n",
      "WR\n",
      "Class of 2022\n",
      "@SpringFootball \n",
      "\n",
      "#americanfootball #foot…\n",
      "\n"
     ]
    }
   ],
   "source": [
    "print_tweets(tweets)"
   ]
  },
  {
   "cell_type": "code",
   "execution_count": null,
   "id": "important-debate",
   "metadata": {},
   "outputs": [],
   "source": []
  }
 ],
 "metadata": {
  "kernelspec": {
   "display_name": "Python 3",
   "language": "python",
   "name": "python3"
  },
  "language_info": {
   "codemirror_mode": {
    "name": "ipython",
    "version": 3
   },
   "file_extension": ".py",
   "mimetype": "text/x-python",
   "name": "python",
   "nbconvert_exporter": "python",
   "pygments_lexer": "ipython3",
   "version": "3.8.5"
  }
 },
 "nbformat": 4,
 "nbformat_minor": 5
}
