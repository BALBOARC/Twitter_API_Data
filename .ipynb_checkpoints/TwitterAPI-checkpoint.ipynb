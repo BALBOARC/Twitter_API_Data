{
 "cells": [
  {
   "cell_type": "markdown",
   "id": "announced-plymouth",
   "metadata": {},
   "source": [
    "# Data Mining Twitter\n",
    "\n",
    "github.com/BALBOARC"
   ]
  },
  {
   "cell_type": "markdown",
   "id": "intermediate-maldives",
   "metadata": {},
   "source": [
    "## Authenticating with Twitter Via Tweepy"
   ]
  },
  {
   "cell_type": "code",
   "execution_count": 1,
   "id": "satisfactory-writer",
   "metadata": {},
   "outputs": [],
   "source": [
    "import tweepy"
   ]
  },
  {
   "cell_type": "code",
   "execution_count": 2,
   "id": "fourth-emperor",
   "metadata": {},
   "outputs": [],
   "source": [
    "import keys"
   ]
  },
  {
   "cell_type": "code",
   "execution_count": 3,
   "id": "hearing-glossary",
   "metadata": {},
   "outputs": [],
   "source": [
    "auth = tweepy.OAuthHandler(keys.consumer_key, \n",
    "                          keys.consumer_secret)"
   ]
  },
  {
   "cell_type": "code",
   "execution_count": 4,
   "id": "virtual-genealogy",
   "metadata": {},
   "outputs": [],
   "source": [
    "auth.set_access_token(keys.access_token,\n",
    "                      keys.access_token_secret)"
   ]
  },
  {
   "cell_type": "code",
   "execution_count": 5,
   "id": "impaired-fifteen",
   "metadata": {},
   "outputs": [],
   "source": [
    "api = tweepy.API(auth, wait_on_rate_limit=True,\n",
    "                 wait_on_rate_limit_notify=True)"
   ]
  },
  {
   "cell_type": "markdown",
   "id": "compound-result",
   "metadata": {},
   "source": [
    "## Getting Information About a Twitter Account"
   ]
  },
  {
   "cell_type": "code",
   "execution_count": 6,
   "id": "noticed-collapse",
   "metadata": {},
   "outputs": [
    {
     "data": {
      "text/plain": [
       "11348282"
      ]
     },
     "execution_count": 6,
     "metadata": {},
     "output_type": "execute_result"
    }
   ],
   "source": [
    "nasa = api.get_user('nasa')\n",
    "nasa.id"
   ]
  },
  {
   "cell_type": "code",
   "execution_count": 7,
   "id": "sticky-loading",
   "metadata": {},
   "outputs": [
    {
     "data": {
      "text/plain": [
       "'NASA'"
      ]
     },
     "execution_count": 7,
     "metadata": {},
     "output_type": "execute_result"
    }
   ],
   "source": [
    "nasa.name"
   ]
  },
  {
   "cell_type": "code",
   "execution_count": 8,
   "id": "organizational-outside",
   "metadata": {},
   "outputs": [
    {
     "data": {
      "text/plain": [
       "'NASA'"
      ]
     },
     "execution_count": 8,
     "metadata": {},
     "output_type": "execute_result"
    }
   ],
   "source": [
    "nasa.screen_name"
   ]
  },
  {
   "cell_type": "code",
   "execution_count": 9,
   "id": "cosmetic-geology",
   "metadata": {},
   "outputs": [
    {
     "data": {
      "text/plain": [
       "'Exploring the universe and our home planet. 🌎🚀'"
      ]
     },
     "execution_count": 9,
     "metadata": {},
     "output_type": "execute_result"
    }
   ],
   "source": [
    "nasa.description"
   ]
  },
  {
   "cell_type": "code",
   "execution_count": 10,
   "id": "verbal-norway",
   "metadata": {},
   "outputs": [
    {
     "data": {
      "text/plain": [
       "'\"I came to understand later that there was some skepticism that I could do design engineering...So, every hard prob… https://t.co/qI2ZCFZDF5'"
      ]
     },
     "execution_count": 10,
     "metadata": {},
     "output_type": "execute_result"
    }
   ],
   "source": [
    "nasa.status.text"
   ]
  },
  {
   "cell_type": "code",
   "execution_count": 11,
   "id": "independent-acquisition",
   "metadata": {},
   "outputs": [
    {
     "data": {
      "text/plain": [
       "44532100"
      ]
     },
     "execution_count": 11,
     "metadata": {},
     "output_type": "execute_result"
    }
   ],
   "source": [
    "nasa.followers_count"
   ]
  },
  {
   "cell_type": "code",
   "execution_count": 12,
   "id": "gorgeous-christian",
   "metadata": {},
   "outputs": [
    {
     "data": {
      "text/plain": [
       "204"
      ]
     },
     "execution_count": 12,
     "metadata": {},
     "output_type": "execute_result"
    }
   ],
   "source": [
    "nasa.friends_count"
   ]
  },
  {
   "cell_type": "code",
   "execution_count": 13,
   "id": "minimal-advertising",
   "metadata": {},
   "outputs": [],
   "source": [
    "me = api.me()"
   ]
  },
  {
   "cell_type": "code",
   "execution_count": 14,
   "id": "advisory-remedy",
   "metadata": {},
   "outputs": [
    {
     "data": {
      "text/plain": [
       "29"
      ]
     },
     "execution_count": 14,
     "metadata": {},
     "output_type": "execute_result"
    }
   ],
   "source": [
    "me.friends_count"
   ]
  },
  {
   "cell_type": "markdown",
   "id": "false-thomson",
   "metadata": {},
   "source": [
    "## Introduction to Tweepy Cursors: Getting an Account’s Followers and Friends"
   ]
  },
  {
   "cell_type": "code",
   "execution_count": 15,
   "id": "electrical-luxembourg",
   "metadata": {},
   "outputs": [],
   "source": [
    "followers = []"
   ]
  },
  {
   "cell_type": "code",
   "execution_count": 16,
   "id": "interior-shopper",
   "metadata": {},
   "outputs": [],
   "source": [
    "cursor = tweepy.Cursor(api.followers, screen_name='nasa')"
   ]
  },
  {
   "cell_type": "code",
   "execution_count": 17,
   "id": "committed-structure",
   "metadata": {},
   "outputs": [],
   "source": [
    "for account in cursor.items(10):\n",
    "    followers.append(account.screen_name)"
   ]
  },
  {
   "cell_type": "code",
   "execution_count": 18,
   "id": "announced-destiny",
   "metadata": {},
   "outputs": [
    {
     "name": "stdout",
     "output_type": "stream",
     "text": [
      "Followers: cardboardcuddle Carla61338894 couquie_purplat felipe86510941 IllescasStalyn Israelj06684359 itsyoungtommy sadmapetrin SivaprasadVB william43133566\n"
     ]
    }
   ],
   "source": [
    "print('Followers:', \n",
    "      ' '.join(sorted(followers, key=lambda s: s.lower())))"
   ]
  },
  {
   "cell_type": "code",
   "execution_count": 19,
   "id": "alternate-homeless",
   "metadata": {},
   "outputs": [],
   "source": [
    "# cursor = tweepy.Cursor(api.followers, screen_name='nasa', count=200)"
   ]
  },
  {
   "cell_type": "code",
   "execution_count": 20,
   "id": "growing-marina",
   "metadata": {},
   "outputs": [],
   "source": [
    "# Determining Whom an Account Follows\n",
    "friends = []"
   ]
  },
  {
   "cell_type": "code",
   "execution_count": 21,
   "id": "economic-workshop",
   "metadata": {},
   "outputs": [],
   "source": [
    "cursor = tweepy.Cursor(api.friends, screen_name='nasa')"
   ]
  },
  {
   "cell_type": "code",
   "execution_count": 22,
   "id": "naked-brunei",
   "metadata": {},
   "outputs": [],
   "source": [
    "for friend in cursor.items(10):\n",
    "    friends.append(friend.screen_name)"
   ]
  },
  {
   "cell_type": "code",
   "execution_count": 23,
   "id": "photographic-guess",
   "metadata": {},
   "outputs": [
    {
     "name": "stdout",
     "output_type": "stream",
     "text": [
      "Friends: Astro_Megan Astro_SEAL dominickmatthew DoNASAScience KathyLueders MarkKirasich NASAArtemis NASAPersevere NASARoman uaespaceagency\n"
     ]
    }
   ],
   "source": [
    "print('Friends:', \n",
    "     ' '.join(sorted(friends, key=lambda s: s.lower())))"
   ]
  },
  {
   "cell_type": "code",
   "execution_count": 24,
   "id": "binary-title",
   "metadata": {},
   "outputs": [],
   "source": [
    "# Getting a User’s Recent Tweets\n",
    "nasa_tweets = api.user_timeline(screen_name='nasa', count=3)"
   ]
  },
  {
   "cell_type": "code",
   "execution_count": 25,
   "id": "sustainable-mortgage",
   "metadata": {},
   "outputs": [
    {
     "name": "stdout",
     "output_type": "stream",
     "text": [
      "NASA: \"I came to understand later that there was some skepticism that I could do design engineering...So, every hard prob… https://t.co/qI2ZCFZDF5\n",
      "\n",
      "NASA: 😮 How it looked when @NASAPersevere landed on Mars\n",
      "🌌 Astronauts on the @Space_Station prepared for a pair of spacew… https://t.co/QNvI6gRFdE\n",
      "\n",
      "NASA: Helmets and gloves are coming off as @AstroVicGlover and Kate Rubins begin to take off their spacesuits, assisted b… https://t.co/RPaDfLrmya\n",
      "\n"
     ]
    }
   ],
   "source": [
    "for tweet in nasa_tweets:\n",
    "    print(f'{tweet.user.screen_name}: {tweet.text}\\n')"
   ]
  },
  {
   "cell_type": "code",
   "execution_count": 26,
   "id": "prospective-facing",
   "metadata": {},
   "outputs": [],
   "source": [
    "# Grabbing Recent Tweets from Your Own Timeline\n",
    "# api.home_timeline()"
   ]
  },
  {
   "cell_type": "markdown",
   "id": "spare-devices",
   "metadata": {},
   "source": [
    "## Searching Recent Tweets"
   ]
  },
  {
   "cell_type": "code",
   "execution_count": 27,
   "id": "finnish-section",
   "metadata": {},
   "outputs": [],
   "source": [
    "from textblob import TextBlob\n",
    "from tweetutilities import print_tweets"
   ]
  },
  {
   "cell_type": "code",
   "execution_count": 28,
   "id": "occupational-class",
   "metadata": {},
   "outputs": [],
   "source": [
    "tweets = api.search(q='Mars Opportunity Rover', count=3)"
   ]
  },
  {
   "cell_type": "code",
   "execution_count": 29,
   "id": "speaking-halifax",
   "metadata": {},
   "outputs": [
    {
     "name": "stdout",
     "output_type": "stream",
     "text": [
      "RT @cmd9284: #xtz has the people,the platform,the news, and the fuel to launch 🚀 to Mars and hang out with rover perseverance until it make…\n",
      "\n",
      "@CJAMcMahon @_TheSeaning @NASAPersevere It was for Spirit and Opportunity, presumably it's similar for Curiosity an… https://t.co/rbvoHdn7hl\n",
      "\n",
      "Here is a winner! Losers cry anti immigration, sexism, racism, it’s all bs. Here is real opportunity realized! https://t.co/AfbIY4hZNx\n",
      "\n"
     ]
    }
   ],
   "source": [
    "print_tweets(tweets)"
   ]
  },
  {
   "cell_type": "code",
   "execution_count": 30,
   "id": "blessed-magnitude",
   "metadata": {},
   "outputs": [],
   "source": [
    "# Certifique-se que o TextBLob está instalado:\n",
    "# pip install -U textblob\n",
    "# python -m textblob.download_corpora (consegui utilizando o terminal do linux)"
   ]
  },
  {
   "cell_type": "markdown",
   "id": "hungarian-beijing",
   "metadata": {},
   "source": [
    "## Searching for a Hashtag"
   ]
  },
  {
   "cell_type": "code",
   "execution_count": 31,
   "id": "interstate-chamber",
   "metadata": {},
   "outputs": [],
   "source": [
    "tweets = api.search(q='#collegefootball', count=2)"
   ]
  },
  {
   "cell_type": "code",
   "execution_count": 32,
   "id": "divided-amateur",
   "metadata": {},
   "outputs": [
    {
     "name": "stdout",
     "output_type": "stream",
     "text": [
      "I write essays and handle online classes at an affordable fee. \n",
      "Feel free to contact me for help. \n",
      "\n",
      "👑Brainywriters2… https://t.co/jUycP23K7E\n",
      "\n",
      "RT @woodwardsports: Go Green! Go Blue! Just don’t root for you know who! \n",
      "#GoGreen #GoWhite #GoBlue #BuckOhioState #collegefootball #rivals…\n",
      "\n"
     ]
    }
   ],
   "source": [
    "print_tweets(tweets)"
   ]
  },
  {
   "cell_type": "markdown",
   "id": "sixth-college",
   "metadata": {},
   "source": [
    "## Spotting Trends: Twitter Trends API"
   ]
  },
  {
   "cell_type": "code",
   "execution_count": 33,
   "id": "stock-orientation",
   "metadata": {},
   "outputs": [],
   "source": [
    "trends_available = api.trends_available()"
   ]
  },
  {
   "cell_type": "code",
   "execution_count": 34,
   "id": "stone-destiny",
   "metadata": {},
   "outputs": [
    {
     "data": {
      "text/plain": [
       "467"
      ]
     },
     "execution_count": 34,
     "metadata": {},
     "output_type": "execute_result"
    }
   ],
   "source": [
    "len(trends_available)"
   ]
  },
  {
   "cell_type": "code",
   "execution_count": 35,
   "id": "commercial-pastor",
   "metadata": {},
   "outputs": [
    {
     "data": {
      "text/plain": [
       "{'name': 'Winnipeg',\n",
       " 'placeType': {'code': 7, 'name': 'Town'},\n",
       " 'url': 'http://where.yahooapis.com/v1/place/2972',\n",
       " 'parentid': 23424775,\n",
       " 'country': 'Canada',\n",
       " 'woeid': 2972,\n",
       " 'countryCode': 'CA'}"
      ]
     },
     "execution_count": 35,
     "metadata": {},
     "output_type": "execute_result"
    }
   ],
   "source": [
    "trends_available[1]"
   ]
  },
  {
   "cell_type": "code",
   "execution_count": 36,
   "id": "inappropriate-switzerland",
   "metadata": {},
   "outputs": [],
   "source": [
    "# Worldwide Trending Topics\n",
    "world_trends = api.trends_place(id=1)"
   ]
  },
  {
   "cell_type": "code",
   "execution_count": 37,
   "id": "matched-wales",
   "metadata": {},
   "outputs": [],
   "source": [
    "trends_list = world_trends[0]['trends']"
   ]
  },
  {
   "cell_type": "code",
   "execution_count": 38,
   "id": "willing-facility",
   "metadata": {},
   "outputs": [
    {
     "data": {
      "text/plain": [
       "{'name': 'Rafael Portugal',\n",
       " 'url': 'http://twitter.com/search?q=%22Rafael+Portugal%22',\n",
       " 'promoted_content': None,\n",
       " 'query': '%22Rafael+Portugal%22',\n",
       " 'tweet_volume': 42243}"
      ]
     },
     "execution_count": 38,
     "metadata": {},
     "output_type": "execute_result"
    }
   ],
   "source": [
    "trends_list[0]"
   ]
  },
  {
   "cell_type": "code",
   "execution_count": 39,
   "id": "saving-grade",
   "metadata": {},
   "outputs": [],
   "source": [
    "trends_list = [t for t in trends_list if t['tweet_volume']]"
   ]
  },
  {
   "cell_type": "code",
   "execution_count": 40,
   "id": "voluntary-naples",
   "metadata": {},
   "outputs": [],
   "source": [
    "from operator import itemgetter"
   ]
  },
  {
   "cell_type": "code",
   "execution_count": 41,
   "id": "color-today",
   "metadata": {},
   "outputs": [],
   "source": [
    "trends_list.sort(key=itemgetter('tweet_volume'), reverse=True)"
   ]
  },
  {
   "cell_type": "code",
   "execution_count": 42,
   "id": "intensive-mixer",
   "metadata": {},
   "outputs": [
    {
     "name": "stdout",
     "output_type": "stream",
     "text": [
      "spotify\n",
      "Kakao M\n",
      "#CPAC2021\n",
      "Eren\n",
      "#CarlaMoreau\n"
     ]
    }
   ],
   "source": [
    "for trend in trends_list[:5]:\n",
    "    print(trend['name'])"
   ]
  },
  {
   "cell_type": "code",
   "execution_count": 43,
   "id": "bound-crack",
   "metadata": {},
   "outputs": [],
   "source": [
    "# New York City Trending Topics\n",
    "nyc_trends = api.trends_place(id=2459115) # New York City WOEID\n",
    "nyc_list = nyc_trends[0]['trends']"
   ]
  },
  {
   "cell_type": "code",
   "execution_count": 44,
   "id": "biblical-schema",
   "metadata": {},
   "outputs": [],
   "source": [
    "nyc_list = [t for t in nyc_list if t['tweet_volume']]"
   ]
  },
  {
   "cell_type": "code",
   "execution_count": 45,
   "id": "recovered-murray",
   "metadata": {},
   "outputs": [],
   "source": [
    "nyc_list.sort(key=itemgetter('tweet_volume'), reverse=True)"
   ]
  },
  {
   "cell_type": "code",
   "execution_count": 46,
   "id": "sapphire-grace",
   "metadata": {},
   "outputs": [
    {
     "name": "stdout",
     "output_type": "stream",
     "text": [
      "spotify\n",
      "Kakao M\n",
      "apple\n",
      "Cuomo\n",
      "#CPAC2021\n"
     ]
    }
   ],
   "source": [
    "for trend in nyc_list[:5]:\n",
    "    print(trend['name'])"
   ]
  },
  {
   "cell_type": "markdown",
   "id": "uniform-reasoning",
   "metadata": {},
   "source": [
    "## Create a Word Cloud from Trending Topics"
   ]
  },
  {
   "cell_type": "code",
   "execution_count": 47,
   "id": "canadian-olive",
   "metadata": {},
   "outputs": [],
   "source": [
    "topics = {}"
   ]
  },
  {
   "cell_type": "code",
   "execution_count": 48,
   "id": "controlled-international",
   "metadata": {},
   "outputs": [],
   "source": [
    "for trend in nyc_list:\n",
    "    topics[trend['name']] = trend['tweet_volume']"
   ]
  },
  {
   "cell_type": "code",
   "execution_count": 49,
   "id": "corresponding-thread",
   "metadata": {},
   "outputs": [],
   "source": [
    "from wordcloud import WordCloud"
   ]
  },
  {
   "cell_type": "code",
   "execution_count": 50,
   "id": "standing-president",
   "metadata": {},
   "outputs": [],
   "source": [
    "wordcloud = WordCloud(width=800, height=600, prefer_horizontal=0.5, min_font_size=10, colormap='prism', background_color='black')"
   ]
  },
  {
   "cell_type": "code",
   "execution_count": 51,
   "id": "identified-watershed",
   "metadata": {},
   "outputs": [],
   "source": [
    "wordcloud = wordcloud.fit_words(topics)"
   ]
  },
  {
   "cell_type": "code",
   "execution_count": 52,
   "id": "allied-somalia",
   "metadata": {},
   "outputs": [],
   "source": [
    "wordcloud = wordcloud.to_file('TrendingTwitter.png')"
   ]
  },
  {
   "cell_type": "code",
   "execution_count": 53,
   "id": "contemporary-assistant",
   "metadata": {},
   "outputs": [
    {
     "data": {
      "image/png": "[encoded data removed]",
      "text/plain": [
       "<IPython.core.display.Image object>"
      ]
     },
     "execution_count": 53,
     "metadata": {},
     "output_type": "execute_result"
    }
   ],
   "source": [
    "from IPython.display import Image\n",
    "Image('TrendingTwitter.png')"
   ]
  }
 ],
 "metadata": {
  "kernelspec": {
   "display_name": "Python 3",
   "language": "python",
   "name": "python3"
  },
  "language_info": {
   "codemirror_mode": {
    "name": "ipython",
    "version": 3
   },
   "file_extension": ".py",
   "mimetype": "text/x-python",
   "name": "python",
   "nbconvert_exporter": "python",
   "pygments_lexer": "ipython3",
   "version": "3.8.5"
  }
 },
 "nbformat": 4,
 "nbformat_minor": 5
}
